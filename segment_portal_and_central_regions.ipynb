{
 "cells": [
  {
   "cell_type": "markdown",
   "metadata": {},
   "source": [
    "## Segment central zone and periportal zone: Defined by presence of Glul (ch1) and Ecadh (ch2) resp."
   ]
  },
  {
   "cell_type": "markdown",
   "metadata": {},
   "source": [
    "### Load libraries, define paths and parameters"
   ]
  },
  {
   "cell_type": "code",
   "execution_count": 3,
   "metadata": {},
   "outputs": [],
   "source": [
    "# Libraries\n",
    "import spatialdata as sd\n",
    "import os\n",
    "import yaml\n",
    "import numpy as np\n",
    "import dask.array as da\n",
    "from spatialdata.models import  Labels2DModel\n",
    "from functions.zonation_segmentation_utils import *\n",
    "import cv2"
   ]
  },
  {
   "cell_type": "code",
   "execution_count": 4,
   "metadata": {},
   "outputs": [],
   "source": [
    "#Paths\n",
    "sample_type = 'Flox_Control'\n",
    "data_dir = '/srv/data/michielvc/data/CSF1_ligand_data/SpatialData/'\n",
    "\n",
    "# Open config file and extract relevant information\n",
    "config = yaml.safe_load(open(data_dir + f'{sample_type}_config.yaml'))\n",
    "file_names = config['file_names']\n",
    "\n",
    "# Parameters\n",
    "glul_ch = config['marker_channel']['Glul']\n",
    "ecadh_ch = config['marker_channel']['Ecadh']\n",
    "\n",
    "central_zone_label = config['zonation_labels']['central_zone']\n",
    "periportal_zone_label = config['zonation_labels']['periportal_zone']\n",
    "\n",
    "central_quantile_threshold = 85\n",
    "\n",
    "morph_structuring_kernel = cv2.getStructuringElement(cv2.MORPH_ELLIPSE, (30,30)).astype(np.uint8)"
   ]
  },
  {
   "cell_type": "markdown",
   "metadata": {},
   "source": [
    "### Load SpatialData object"
   ]
  },
  {
   "cell_type": "code",
   "execution_count": 5,
   "metadata": {},
   "outputs": [
    {
     "data": {
      "text/plain": [
       "SpatialData object with:\n",
       "├── Images\n",
       "│     ├── 'E2M1FloxControl_preprocessed': SpatialImage[cyx] (5, 7533, 16659)\n",
       "│     ├── 'E2M1FloxControl_raw': SpatialImage[cyx] (5, 7533, 16659)\n",
       "│     ├── 'E2M3FloxControl_preprocessed': SpatialImage[cyx] (5, 11178, 18468)\n",
       "│     ├── 'E2M3FloxControl_raw': SpatialImage[cyx] (5, 11178, 18468)\n",
       "│     ├── 'E2M5FloxControl_preprocessed': SpatialImage[cyx] (5, 9342, 12987)\n",
       "│     ├── 'E2M5FloxControl_raw': SpatialImage[cyx] (5, 9342, 12987)\n",
       "│     ├── 'E2M6FloxControl_preprocessed': SpatialImage[cyx] (5, 11205, 14823)\n",
       "│     ├── 'E2M6FloxControl_raw': SpatialImage[cyx] (5, 11205, 14823)\n",
       "│     ├── 'E2M7FloxControl_preprocessed': SpatialImage[cyx] (5, 9342, 16632)\n",
       "│     ├── 'E2M7FloxControl_raw': SpatialImage[cyx] (5, 9342, 16632)\n",
       "│     ├── 'E2M8FloxControl_preprocessed': SpatialImage[cyx] (5, 7533, 14823)\n",
       "│     ├── 'E2M8FloxControl_raw': SpatialImage[cyx] (5, 7533, 14823)\n",
       "│     ├── 'E2M15FloxControl_preprocessed': SpatialImage[cyx] (5, 9342, 14823)\n",
       "│     ├── 'E2M15FloxControl_raw': SpatialImage[cyx] (5, 9342, 14823)\n",
       "│     ├── 'E2M16FloxControl_preprocessed': SpatialImage[cyx] (5, 16632, 14823)\n",
       "│     ├── 'E2M16FloxControl_raw': SpatialImage[cyx] (5, 16632, 14823)\n",
       "│     ├── 'E4M7FloxControl_preprocessed': SpatialImage[cyx] (5, 9342, 16632)\n",
       "│     ├── 'E4M7FloxControl_raw': SpatialImage[cyx] (5, 9342, 16632)\n",
       "│     ├── 'E4M14FloxControl_preprocessed': SpatialImage[cyx] (5, 7533, 14823)\n",
       "│     ├── 'E4M14FloxControl_raw': SpatialImage[cyx] (5, 7533, 14823)\n",
       "│     ├── 'E4M16FloxControl_preprocessed': SpatialImage[cyx] (5, 9342, 16659)\n",
       "│     ├── 'E4M16FloxControl_raw': SpatialImage[cyx] (5, 9342, 16659)\n",
       "│     ├── 'E4M18FloxControl_preprocessed': SpatialImage[cyx] (5, 16632, 9342)\n",
       "│     ├── 'E4M18FloxControl_raw': SpatialImage[cyx] (5, 16632, 9342)\n",
       "│     ├── 'E5M1FloxControl_preprocessed': SpatialImage[cyx] (5, 18468, 9342)\n",
       "│     ├── 'E5M1FloxControl_raw': SpatialImage[cyx] (5, 18468, 9342)\n",
       "│     ├── 'E5M2FloxControl_preprocessed': SpatialImage[cyx] (5, 18252, 9207)\n",
       "│     ├── 'E5M2FloxControl_raw': SpatialImage[cyx] (5, 18252, 9207)\n",
       "│     ├── 'E5M4FloxControl_preprocessed': SpatialImage[cyx] (5, 9396, 18468)\n",
       "│     ├── 'E5M4FloxControl_raw': SpatialImage[cyx] (5, 9396, 18468)\n",
       "│     ├── 'E5M6FloxControl_preprocessed': SpatialImage[cyx] (5, 9342, 14823)\n",
       "│     ├── 'E5M6FloxControl_raw': SpatialImage[cyx] (5, 9342, 14823)\n",
       "│     ├── 'E5M13FloxControl_preprocessed': SpatialImage[cyx] (5, 9342, 14877)\n",
       "│     ├── 'E5M13FloxControl_raw': SpatialImage[cyx] (5, 9342, 14877)\n",
       "│     ├── 'E5M19FloxControl_preprocessed': SpatialImage[cyx] (5, 7533, 18468)\n",
       "│     ├── 'E5M19FloxControl_raw': SpatialImage[cyx] (5, 7533, 18468)\n",
       "│     ├── 'E5M20FloxControl_preprocessed': SpatialImage[cyx] (5, 9369, 14823)\n",
       "│     ├── 'E5M20FloxControl_raw': SpatialImage[cyx] (5, 9369, 14823)\n",
       "│     ├── 'E5M22FloxControl_preprocessed': SpatialImage[cyx] (5, 11178, 14823)\n",
       "│     ├── 'E5M22FloxControl_raw': SpatialImage[cyx] (5, 11178, 14823)\n",
       "│     ├── 'E5M23FloxControl_preprocessed': SpatialImage[cyx] (5, 7533, 14823)\n",
       "│     ├── 'E5M23FloxControl_raw': SpatialImage[cyx] (5, 7533, 14823)\n",
       "│     └── 'test': SpatialImage[cyx] (5, 7533, 16659)\n",
       "└── Labels\n",
       "      ├── 'E2M1FloxControl_artefacts': SpatialImage[zyx] (5, 7533, 16659)\n",
       "      ├── 'E2M1FloxControl_cut_mask': SpatialImage[yx] (7533, 16659)\n",
       "      ├── 'E2M1FloxControl_vein_segments': SpatialImage[yx] (7533, 16659)\n",
       "      ├── 'E2M1FloxControl_zonation': SpatialImage[yx] (7533, 16659)\n",
       "      ├── 'E2M3FloxControl_artefacts': SpatialImage[zyx] (5, 11178, 18468)\n",
       "      ├── 'E2M3FloxControl_cut_mask': SpatialImage[yx] (11178, 18468)\n",
       "      ├── 'E2M3FloxControl_vein_segments': SpatialImage[yx] (11178, 18468)\n",
       "      ├── 'E2M3FloxControl_zonation': SpatialImage[yx] (11178, 18468)\n",
       "      ├── 'E2M5FloxControl_artefacts': SpatialImage[zyx] (5, 9342, 12987)\n",
       "      ├── 'E2M5FloxControl_cut_mask': SpatialImage[yx] (9342, 12987)\n",
       "      ├── 'E2M5FloxControl_vein_segments': SpatialImage[yx] (9342, 12987)\n",
       "      ├── 'E2M5FloxControl_zonation': SpatialImage[yx] (9342, 12987)\n",
       "      ├── 'E2M6FloxControl_artefacts': SpatialImage[zyx] (5, 11205, 14823)\n",
       "      ├── 'E2M6FloxControl_cut_mask': SpatialImage[yx] (11205, 14823)\n",
       "      ├── 'E2M6FloxControl_vein_segments': SpatialImage[yx] (11205, 14823)\n",
       "      ├── 'E2M6FloxControl_zonation': SpatialImage[yx] (11205, 14823)\n",
       "      ├── 'E2M7FloxControl_artefacts': SpatialImage[zyx] (5, 9342, 16632)\n",
       "      ├── 'E2M7FloxControl_cut_mask': SpatialImage[yx] (9342, 16632)\n",
       "      ├── 'E2M7FloxControl_vein_segments': SpatialImage[yx] (9342, 16632)\n",
       "      ├── 'E2M7FloxControl_zonation': SpatialImage[yx] (9342, 16632)\n",
       "      ├── 'E2M8FloxControl_artefacts': SpatialImage[zyx] (5, 7533, 14823)\n",
       "      ├── 'E2M8FloxControl_cut_mask': SpatialImage[yx] (7533, 14823)\n",
       "      ├── 'E2M8FloxControl_vein_segments': SpatialImage[yx] (7533, 14823)\n",
       "      ├── 'E2M8FloxControl_zonation': SpatialImage[yx] (7533, 14823)\n",
       "      ├── 'E2M15FloxControl_artefacts': SpatialImage[zyx] (5, 9342, 14823)\n",
       "      ├── 'E2M15FloxControl_cut_mask': SpatialImage[yx] (9342, 14823)\n",
       "      ├── 'E2M15FloxControl_vein_segments': SpatialImage[yx] (9342, 14823)\n",
       "      ├── 'E2M15FloxControl_zonation': SpatialImage[yx] (9342, 14823)\n",
       "      ├── 'E2M16FloxControl_artefacts': SpatialImage[zyx] (5, 16632, 14823)\n",
       "      ├── 'E2M16FloxControl_cut_mask': SpatialImage[yx] (16632, 14823)\n",
       "      ├── 'E2M16FloxControl_vein_segments': SpatialImage[yx] (16632, 14823)\n",
       "      ├── 'E2M16FloxControl_zonation': SpatialImage[yx] (16632, 14823)\n",
       "      ├── 'E4M7FloxControl_artefacts': SpatialImage[zyx] (5, 9342, 16632)\n",
       "      ├── 'E4M7FloxControl_cut_mask': SpatialImage[yx] (9342, 16632)\n",
       "      ├── 'E4M7FloxControl_vein_segments': SpatialImage[yx] (9342, 16632)\n",
       "      ├── 'E4M7FloxControl_zonation': SpatialImage[yx] (9342, 16632)\n",
       "      ├── 'E4M14FloxControl_artefacts': SpatialImage[zyx] (5, 7533, 14823)\n",
       "      ├── 'E4M14FloxControl_cut_mask': SpatialImage[yx] (7533, 14823)\n",
       "      ├── 'E4M14FloxControl_vein_segments': SpatialImage[yx] (7533, 14823)\n",
       "      ├── 'E4M14FloxControl_zonation': SpatialImage[yx] (7533, 14823)\n",
       "      ├── 'E4M16FloxControl_artefacts': SpatialImage[zyx] (5, 9342, 16659)\n",
       "      ├── 'E4M16FloxControl_cut_mask': SpatialImage[yx] (9342, 16659)\n",
       "      ├── 'E4M16FloxControl_vein_segments': SpatialImage[yx] (9342, 16659)\n",
       "      ├── 'E4M16FloxControl_zonation': SpatialImage[yx] (9342, 16659)\n",
       "      ├── 'E4M18FloxControl_artefacts': SpatialImage[zyx] (5, 16632, 9342)\n",
       "      ├── 'E4M18FloxControl_cut_mask': SpatialImage[yx] (16632, 9342)\n",
       "      ├── 'E4M18FloxControl_vein_segments': SpatialImage[yx] (16632, 9342)\n",
       "      ├── 'E4M18FloxControl_zonation': SpatialImage[yx] (16632, 9342)\n",
       "      ├── 'E5M1FloxControl_artefacts': SpatialImage[zyx] (5, 18468, 9342)\n",
       "      ├── 'E5M1FloxControl_cut_mask': SpatialImage[yx] (18468, 9342)\n",
       "      ├── 'E5M1FloxControl_vein_segments': SpatialImage[yx] (18468, 9342)\n",
       "      ├── 'E5M1FloxControl_zonation': SpatialImage[yx] (18468, 9342)\n",
       "      ├── 'E5M2FloxControl_artefacts': SpatialImage[zyx] (5, 18252, 9207)\n",
       "      ├── 'E5M2FloxControl_cut_mask': SpatialImage[yx] (18252, 9207)\n",
       "      ├── 'E5M2FloxControl_vein_segments': SpatialImage[yx] (18252, 9207)\n",
       "      ├── 'E5M2FloxControl_zonation': SpatialImage[yx] (18252, 9207)\n",
       "      ├── 'E5M4FloxControl_artefacts': SpatialImage[zyx] (5, 9396, 18468)\n",
       "      ├── 'E5M4FloxControl_cut_mask': SpatialImage[yx] (9396, 18468)\n",
       "      ├── 'E5M4FloxControl_vein_segments': SpatialImage[yx] (9396, 18468)\n",
       "      ├── 'E5M4FloxControl_zonation': SpatialImage[yx] (9396, 18468)\n",
       "      ├── 'E5M6FloxControl_artefacts': SpatialImage[zyx] (5, 9342, 14823)\n",
       "      ├── 'E5M6FloxControl_cut_mask': SpatialImage[yx] (9342, 14823)\n",
       "      ├── 'E5M6FloxControl_vein_segments': SpatialImage[yx] (9342, 14823)\n",
       "      ├── 'E5M6FloxControl_zonation': SpatialImage[yx] (9342, 14823)\n",
       "      ├── 'E5M13FloxControl_artefacts': SpatialImage[zyx] (5, 9342, 14877)\n",
       "      ├── 'E5M13FloxControl_cut_mask': SpatialImage[yx] (9342, 14877)\n",
       "      ├── 'E5M13FloxControl_vein_segments': SpatialImage[yx] (9342, 14877)\n",
       "      ├── 'E5M13FloxControl_zonation': SpatialImage[yx] (9342, 14877)\n",
       "      ├── 'E5M19FloxControl_artefacts': SpatialImage[zyx] (5, 7533, 18468)\n",
       "      ├── 'E5M19FloxControl_cut_mask': SpatialImage[yx] (7533, 18468)\n",
       "      ├── 'E5M19FloxControl_vein_segments': SpatialImage[yx] (7533, 18468)\n",
       "      ├── 'E5M19FloxControl_zonation': SpatialImage[yx] (7533, 18468)\n",
       "      ├── 'E5M20FloxControl_artefacts': SpatialImage[zyx] (5, 9369, 14823)\n",
       "      ├── 'E5M20FloxControl_cut_mask': SpatialImage[yx] (9369, 14823)\n",
       "      ├── 'E5M20FloxControl_vein_segments': SpatialImage[yx] (9369, 14823)\n",
       "      ├── 'E5M20FloxControl_zonation': SpatialImage[yx] (9369, 14823)\n",
       "      ├── 'E5M22FloxControl_artefacts': SpatialImage[zyx] (5, 11178, 14823)\n",
       "      ├── 'E5M22FloxControl_cut_mask': SpatialImage[yx] (11178, 14823)\n",
       "      ├── 'E5M22FloxControl_vein_segments': SpatialImage[yx] (11178, 14823)\n",
       "      ├── 'E5M22FloxControl_zonation': SpatialImage[yx] (11178, 14823)\n",
       "      ├── 'E5M23FloxControl_artefacts': SpatialImage[zyx] (5, 7533, 14823)\n",
       "      ├── 'E5M23FloxControl_cut_mask': SpatialImage[yx] (7533, 14823)\n",
       "      ├── 'E5M23FloxControl_vein_segments': SpatialImage[yx] (7533, 14823)\n",
       "      └── 'E5M23FloxControl_zonation': SpatialImage[yx] (7533, 14823)\n",
       "with coordinate systems:\n",
       "▸ 'global', with elements:\n",
       "        E2M1FloxControl_preprocessed (Images), E2M1FloxControl_raw (Images), E2M3FloxControl_preprocessed (Images), E2M3FloxControl_raw (Images), E2M5FloxControl_preprocessed (Images), E2M5FloxControl_raw (Images), E2M6FloxControl_preprocessed (Images), E2M6FloxControl_raw (Images), E2M7FloxControl_preprocessed (Images), E2M7FloxControl_raw (Images), E2M8FloxControl_preprocessed (Images), E2M8FloxControl_raw (Images), E2M15FloxControl_preprocessed (Images), E2M15FloxControl_raw (Images), E2M16FloxControl_preprocessed (Images), E2M16FloxControl_raw (Images), E4M7FloxControl_preprocessed (Images), E4M7FloxControl_raw (Images), E4M14FloxControl_preprocessed (Images), E4M14FloxControl_raw (Images), E4M16FloxControl_preprocessed (Images), E4M16FloxControl_raw (Images), E4M18FloxControl_preprocessed (Images), E4M18FloxControl_raw (Images), E5M1FloxControl_preprocessed (Images), E5M1FloxControl_raw (Images), E5M2FloxControl_preprocessed (Images), E5M2FloxControl_raw (Images), E5M4FloxControl_preprocessed (Images), E5M4FloxControl_raw (Images), E5M6FloxControl_preprocessed (Images), E5M6FloxControl_raw (Images), E5M13FloxControl_preprocessed (Images), E5M13FloxControl_raw (Images), E5M19FloxControl_preprocessed (Images), E5M19FloxControl_raw (Images), E5M20FloxControl_preprocessed (Images), E5M20FloxControl_raw (Images), E5M22FloxControl_preprocessed (Images), E5M22FloxControl_raw (Images), E5M23FloxControl_preprocessed (Images), E5M23FloxControl_raw (Images), test (Images), E2M1FloxControl_artefacts (Labels), E2M1FloxControl_cut_mask (Labels), E2M1FloxControl_vein_segments (Labels), E2M1FloxControl_zonation (Labels), E2M3FloxControl_artefacts (Labels), E2M3FloxControl_cut_mask (Labels), E2M3FloxControl_vein_segments (Labels), E2M3FloxControl_zonation (Labels), E2M5FloxControl_artefacts (Labels), E2M5FloxControl_cut_mask (Labels), E2M5FloxControl_vein_segments (Labels), E2M5FloxControl_zonation (Labels), E2M6FloxControl_artefacts (Labels), E2M6FloxControl_cut_mask (Labels), E2M6FloxControl_vein_segments (Labels), E2M6FloxControl_zonation (Labels), E2M7FloxControl_artefacts (Labels), E2M7FloxControl_cut_mask (Labels), E2M7FloxControl_vein_segments (Labels), E2M7FloxControl_zonation (Labels), E2M8FloxControl_artefacts (Labels), E2M8FloxControl_cut_mask (Labels), E2M8FloxControl_vein_segments (Labels), E2M8FloxControl_zonation (Labels), E2M15FloxControl_artefacts (Labels), E2M15FloxControl_cut_mask (Labels), E2M15FloxControl_vein_segments (Labels), E2M15FloxControl_zonation (Labels), E2M16FloxControl_artefacts (Labels), E2M16FloxControl_cut_mask (Labels), E2M16FloxControl_vein_segments (Labels), E2M16FloxControl_zonation (Labels), E4M7FloxControl_artefacts (Labels), E4M7FloxControl_cut_mask (Labels), E4M7FloxControl_vein_segments (Labels), E4M7FloxControl_zonation (Labels), E4M14FloxControl_artefacts (Labels), E4M14FloxControl_cut_mask (Labels), E4M14FloxControl_vein_segments (Labels), E4M14FloxControl_zonation (Labels), E4M16FloxControl_artefacts (Labels), E4M16FloxControl_cut_mask (Labels), E4M16FloxControl_vein_segments (Labels), E4M16FloxControl_zonation (Labels), E4M18FloxControl_artefacts (Labels), E4M18FloxControl_cut_mask (Labels), E4M18FloxControl_vein_segments (Labels), E4M18FloxControl_zonation (Labels), E5M1FloxControl_artefacts (Labels), E5M1FloxControl_cut_mask (Labels), E5M1FloxControl_vein_segments (Labels), E5M1FloxControl_zonation (Labels), E5M2FloxControl_artefacts (Labels), E5M2FloxControl_cut_mask (Labels), E5M2FloxControl_vein_segments (Labels), E5M2FloxControl_zonation (Labels), E5M4FloxControl_artefacts (Labels), E5M4FloxControl_cut_mask (Labels), E5M4FloxControl_vein_segments (Labels), E5M4FloxControl_zonation (Labels), E5M6FloxControl_artefacts (Labels), E5M6FloxControl_cut_mask (Labels), E5M6FloxControl_vein_segments (Labels), E5M6FloxControl_zonation (Labels), E5M13FloxControl_artefacts (Labels), E5M13FloxControl_cut_mask (Labels), E5M13FloxControl_vein_segments (Labels), E5M13FloxControl_zonation (Labels), E5M19FloxControl_artefacts (Labels), E5M19FloxControl_cut_mask (Labels), E5M19FloxControl_vein_segments (Labels), E5M19FloxControl_zonation (Labels), E5M20FloxControl_artefacts (Labels), E5M20FloxControl_cut_mask (Labels), E5M20FloxControl_vein_segments (Labels), E5M20FloxControl_zonation (Labels), E5M22FloxControl_artefacts (Labels), E5M22FloxControl_cut_mask (Labels), E5M22FloxControl_vein_segments (Labels), E5M22FloxControl_zonation (Labels), E5M23FloxControl_artefacts (Labels), E5M23FloxControl_cut_mask (Labels), E5M23FloxControl_vein_segments (Labels), E5M23FloxControl_zonation (Labels)"
      ]
     },
     "execution_count": 5,
     "metadata": {},
     "output_type": "execute_result"
    }
   ],
   "source": [
    "sdata = sd.read_zarr(os.path.join(data_dir, f'{sample_type}.sd'))\n",
    "sdata"
   ]
  },
  {
   "cell_type": "markdown",
   "metadata": {},
   "source": [
    "### Get segment periportal_zones and central_zones from glul and ecadh channel resp. "
   ]
  },
  {
   "cell_type": "code",
   "execution_count": 4,
   "metadata": {},
   "outputs": [
    {
     "name": "stdout",
     "output_type": "stream",
     "text": [
      "\u001b[34mINFO    \u001b[0m no axes information specified in the object, setting `dims` to: \u001b[1m(\u001b[0m\u001b[32m'y'\u001b[0m, \u001b[32m'x'\u001b[0m\u001b[1m)\u001b[0m                                \n"
     ]
    },
    {
     "name": "stderr",
     "output_type": "stream",
     "text": [
      "no parent found for <ome_zarr.reader.Label object at 0x7f516dfe3e20>: None\n"
     ]
    },
    {
     "name": "stdout",
     "output_type": "stream",
     "text": [
      "\u001b[34mINFO    \u001b[0m no axes information specified in the object, setting `dims` to: \u001b[1m(\u001b[0m\u001b[32m'y'\u001b[0m, \u001b[32m'x'\u001b[0m\u001b[1m)\u001b[0m                                \n",
      "\u001b[34mINFO    \u001b[0m no axes information specified in the object, setting `dims` to: \u001b[1m(\u001b[0m\u001b[32m'y'\u001b[0m, \u001b[32m'x'\u001b[0m\u001b[1m)\u001b[0m                                \n"
     ]
    },
    {
     "name": "stderr",
     "output_type": "stream",
     "text": [
      "no parent found for <ome_zarr.reader.Label object at 0x7f516df2e670>: None\n"
     ]
    },
    {
     "name": "stdout",
     "output_type": "stream",
     "text": [
      "\u001b[34mINFO    \u001b[0m no axes information specified in the object, setting `dims` to: \u001b[1m(\u001b[0m\u001b[32m'y'\u001b[0m, \u001b[32m'x'\u001b[0m\u001b[1m)\u001b[0m                                \n",
      "\u001b[34mINFO    \u001b[0m no axes information specified in the object, setting `dims` to: \u001b[1m(\u001b[0m\u001b[32m'y'\u001b[0m, \u001b[32m'x'\u001b[0m\u001b[1m)\u001b[0m                                \n"
     ]
    },
    {
     "name": "stderr",
     "output_type": "stream",
     "text": [
      "no parent found for <ome_zarr.reader.Label object at 0x7f516de05310>: None\n"
     ]
    },
    {
     "name": "stdout",
     "output_type": "stream",
     "text": [
      "\u001b[34mINFO    \u001b[0m no axes information specified in the object, setting `dims` to: \u001b[1m(\u001b[0m\u001b[32m'y'\u001b[0m, \u001b[32m'x'\u001b[0m\u001b[1m)\u001b[0m                                \n",
      "\u001b[34mINFO    \u001b[0m no axes information specified in the object, setting `dims` to: \u001b[1m(\u001b[0m\u001b[32m'y'\u001b[0m, \u001b[32m'x'\u001b[0m\u001b[1m)\u001b[0m                                \n"
     ]
    },
    {
     "name": "stderr",
     "output_type": "stream",
     "text": [
      "no parent found for <ome_zarr.reader.Label object at 0x7f516ded8df0>: None\n"
     ]
    },
    {
     "name": "stdout",
     "output_type": "stream",
     "text": [
      "\u001b[34mINFO    \u001b[0m no axes information specified in the object, setting `dims` to: \u001b[1m(\u001b[0m\u001b[32m'y'\u001b[0m, \u001b[32m'x'\u001b[0m\u001b[1m)\u001b[0m                                \n"
     ]
    },
    {
     "name": "stderr",
     "output_type": "stream",
     "text": [
      "no parent found for <ome_zarr.reader.Label object at 0x7f516dca3be0>: None\n"
     ]
    },
    {
     "name": "stdout",
     "output_type": "stream",
     "text": [
      "\u001b[34mINFO    \u001b[0m no axes information specified in the object, setting `dims` to: \u001b[1m(\u001b[0m\u001b[32m'y'\u001b[0m, \u001b[32m'x'\u001b[0m\u001b[1m)\u001b[0m                                \n",
      "\u001b[34mINFO    \u001b[0m no axes information specified in the object, setting `dims` to: \u001b[1m(\u001b[0m\u001b[32m'y'\u001b[0m, \u001b[32m'x'\u001b[0m\u001b[1m)\u001b[0m                                \n"
     ]
    },
    {
     "name": "stderr",
     "output_type": "stream",
     "text": [
      "no parent found for <ome_zarr.reader.Label object at 0x7f516dbc01c0>: None\n"
     ]
    },
    {
     "name": "stdout",
     "output_type": "stream",
     "text": [
      "\u001b[34mINFO    \u001b[0m no axes information specified in the object, setting `dims` to: \u001b[1m(\u001b[0m\u001b[32m'y'\u001b[0m, \u001b[32m'x'\u001b[0m\u001b[1m)\u001b[0m                                \n",
      "\u001b[34mINFO    \u001b[0m no axes information specified in the object, setting `dims` to: \u001b[1m(\u001b[0m\u001b[32m'y'\u001b[0m, \u001b[32m'x'\u001b[0m\u001b[1m)\u001b[0m                                \n"
     ]
    },
    {
     "name": "stderr",
     "output_type": "stream",
     "text": [
      "no parent found for <ome_zarr.reader.Label object at 0x7f516dbf6ee0>: None\n"
     ]
    },
    {
     "name": "stdout",
     "output_type": "stream",
     "text": [
      "\u001b[34mINFO    \u001b[0m no axes information specified in the object, setting `dims` to: \u001b[1m(\u001b[0m\u001b[32m'y'\u001b[0m, \u001b[32m'x'\u001b[0m\u001b[1m)\u001b[0m                                \n"
     ]
    },
    {
     "name": "stderr",
     "output_type": "stream",
     "text": [
      "no parent found for <ome_zarr.reader.Label object at 0x7f516dc6e490>: None\n"
     ]
    },
    {
     "name": "stdout",
     "output_type": "stream",
     "text": [
      "\u001b[34mINFO    \u001b[0m no axes information specified in the object, setting `dims` to: \u001b[1m(\u001b[0m\u001b[32m'y'\u001b[0m, \u001b[32m'x'\u001b[0m\u001b[1m)\u001b[0m                                \n",
      "\u001b[34mINFO    \u001b[0m no axes information specified in the object, setting `dims` to: \u001b[1m(\u001b[0m\u001b[32m'y'\u001b[0m, \u001b[32m'x'\u001b[0m\u001b[1m)\u001b[0m                                \n"
     ]
    },
    {
     "name": "stderr",
     "output_type": "stream",
     "text": [
      "no parent found for <ome_zarr.reader.Label object at 0x7f516dbad550>: None\n"
     ]
    },
    {
     "name": "stdout",
     "output_type": "stream",
     "text": [
      "\u001b[34mINFO    \u001b[0m no axes information specified in the object, setting `dims` to: \u001b[1m(\u001b[0m\u001b[32m'y'\u001b[0m, \u001b[32m'x'\u001b[0m\u001b[1m)\u001b[0m                                \n",
      "\u001b[34mINFO    \u001b[0m no axes information specified in the object, setting `dims` to: \u001b[1m(\u001b[0m\u001b[32m'y'\u001b[0m, \u001b[32m'x'\u001b[0m\u001b[1m)\u001b[0m                                \n"
     ]
    },
    {
     "name": "stderr",
     "output_type": "stream",
     "text": [
      "no parent found for <ome_zarr.reader.Label object at 0x7f516dba4040>: None\n"
     ]
    },
    {
     "name": "stdout",
     "output_type": "stream",
     "text": [
      "\u001b[34mINFO    \u001b[0m no axes information specified in the object, setting `dims` to: \u001b[1m(\u001b[0m\u001b[32m'y'\u001b[0m, \u001b[32m'x'\u001b[0m\u001b[1m)\u001b[0m                                \n",
      "\u001b[34mINFO    \u001b[0m no axes information specified in the object, setting `dims` to: \u001b[1m(\u001b[0m\u001b[32m'y'\u001b[0m, \u001b[32m'x'\u001b[0m\u001b[1m)\u001b[0m                                \n"
     ]
    },
    {
     "name": "stderr",
     "output_type": "stream",
     "text": [
      "no parent found for <ome_zarr.reader.Label object at 0x7f516da0cd00>: None\n"
     ]
    },
    {
     "name": "stdout",
     "output_type": "stream",
     "text": [
      "\u001b[34mINFO    \u001b[0m no axes information specified in the object, setting `dims` to: \u001b[1m(\u001b[0m\u001b[32m'y'\u001b[0m, \u001b[32m'x'\u001b[0m\u001b[1m)\u001b[0m                                \n"
     ]
    },
    {
     "name": "stderr",
     "output_type": "stream",
     "text": [
      "no parent found for <ome_zarr.reader.Label object at 0x7f516db8d340>: None\n"
     ]
    },
    {
     "name": "stdout",
     "output_type": "stream",
     "text": [
      "\u001b[34mINFO    \u001b[0m no axes information specified in the object, setting `dims` to: \u001b[1m(\u001b[0m\u001b[32m'y'\u001b[0m, \u001b[32m'x'\u001b[0m\u001b[1m)\u001b[0m                                \n",
      "\u001b[34mINFO    \u001b[0m no axes information specified in the object, setting `dims` to: \u001b[1m(\u001b[0m\u001b[32m'y'\u001b[0m, \u001b[32m'x'\u001b[0m\u001b[1m)\u001b[0m                                \n"
     ]
    },
    {
     "name": "stderr",
     "output_type": "stream",
     "text": [
      "no parent found for <ome_zarr.reader.Label object at 0x7f516dfd1b20>: None\n"
     ]
    },
    {
     "name": "stdout",
     "output_type": "stream",
     "text": [
      "\u001b[34mINFO    \u001b[0m no axes information specified in the object, setting `dims` to: \u001b[1m(\u001b[0m\u001b[32m'y'\u001b[0m, \u001b[32m'x'\u001b[0m\u001b[1m)\u001b[0m                                \n",
      "\u001b[34mINFO    \u001b[0m no axes information specified in the object, setting `dims` to: \u001b[1m(\u001b[0m\u001b[32m'y'\u001b[0m, \u001b[32m'x'\u001b[0m\u001b[1m)\u001b[0m                                \n"
     ]
    },
    {
     "name": "stderr",
     "output_type": "stream",
     "text": [
      "no parent found for <ome_zarr.reader.Label object at 0x7f516dc912e0>: None\n"
     ]
    },
    {
     "name": "stdout",
     "output_type": "stream",
     "text": [
      "\u001b[34mINFO    \u001b[0m no axes information specified in the object, setting `dims` to: \u001b[1m(\u001b[0m\u001b[32m'y'\u001b[0m, \u001b[32m'x'\u001b[0m\u001b[1m)\u001b[0m                                \n",
      "\u001b[34mINFO    \u001b[0m no axes information specified in the object, setting `dims` to: \u001b[1m(\u001b[0m\u001b[32m'y'\u001b[0m, \u001b[32m'x'\u001b[0m\u001b[1m)\u001b[0m                                \n"
     ]
    },
    {
     "name": "stderr",
     "output_type": "stream",
     "text": [
      "no parent found for <ome_zarr.reader.Label object at 0x7f516ddfd610>: None\n"
     ]
    },
    {
     "name": "stdout",
     "output_type": "stream",
     "text": [
      "\u001b[34mINFO    \u001b[0m no axes information specified in the object, setting `dims` to: \u001b[1m(\u001b[0m\u001b[32m'y'\u001b[0m, \u001b[32m'x'\u001b[0m\u001b[1m)\u001b[0m                                \n",
      "\u001b[34mINFO    \u001b[0m no axes information specified in the object, setting `dims` to: \u001b[1m(\u001b[0m\u001b[32m'y'\u001b[0m, \u001b[32m'x'\u001b[0m\u001b[1m)\u001b[0m                                \n"
     ]
    },
    {
     "name": "stderr",
     "output_type": "stream",
     "text": [
      "no parent found for <ome_zarr.reader.Label object at 0x7f516dc356a0>: None\n"
     ]
    },
    {
     "name": "stdout",
     "output_type": "stream",
     "text": [
      "\u001b[34mINFO    \u001b[0m no axes information specified in the object, setting `dims` to: \u001b[1m(\u001b[0m\u001b[32m'y'\u001b[0m, \u001b[32m'x'\u001b[0m\u001b[1m)\u001b[0m                                \n",
      "\u001b[34mINFO    \u001b[0m no axes information specified in the object, setting `dims` to: \u001b[1m(\u001b[0m\u001b[32m'y'\u001b[0m, \u001b[32m'x'\u001b[0m\u001b[1m)\u001b[0m                                \n"
     ]
    },
    {
     "name": "stderr",
     "output_type": "stream",
     "text": [
      "no parent found for <ome_zarr.reader.Label object at 0x7f516dafc730>: None\n"
     ]
    },
    {
     "name": "stdout",
     "output_type": "stream",
     "text": [
      "\u001b[34mINFO    \u001b[0m no axes information specified in the object, setting `dims` to: \u001b[1m(\u001b[0m\u001b[32m'y'\u001b[0m, \u001b[32m'x'\u001b[0m\u001b[1m)\u001b[0m                                \n"
     ]
    },
    {
     "name": "stderr",
     "output_type": "stream",
     "text": [
      "no parent found for <ome_zarr.reader.Label object at 0x7f516dfd14c0>: None\n"
     ]
    },
    {
     "name": "stdout",
     "output_type": "stream",
     "text": [
      "\u001b[34mINFO    \u001b[0m no axes information specified in the object, setting `dims` to: \u001b[1m(\u001b[0m\u001b[32m'y'\u001b[0m, \u001b[32m'x'\u001b[0m\u001b[1m)\u001b[0m                                \n",
      "\u001b[34mINFO    \u001b[0m no axes information specified in the object, setting `dims` to: \u001b[1m(\u001b[0m\u001b[32m'y'\u001b[0m, \u001b[32m'x'\u001b[0m\u001b[1m)\u001b[0m                                \n"
     ]
    },
    {
     "name": "stderr",
     "output_type": "stream",
     "text": [
      "no parent found for <ome_zarr.reader.Label object at 0x7f516dabc6a0>: None\n"
     ]
    },
    {
     "name": "stdout",
     "output_type": "stream",
     "text": [
      "\u001b[34mINFO    \u001b[0m no axes information specified in the object, setting `dims` to: \u001b[1m(\u001b[0m\u001b[32m'y'\u001b[0m, \u001b[32m'x'\u001b[0m\u001b[1m)\u001b[0m                                \n",
      "\u001b[34mINFO    \u001b[0m no axes information specified in the object, setting `dims` to: \u001b[1m(\u001b[0m\u001b[32m'y'\u001b[0m, \u001b[32m'x'\u001b[0m\u001b[1m)\u001b[0m                                \n"
     ]
    },
    {
     "name": "stderr",
     "output_type": "stream",
     "text": [
      "no parent found for <ome_zarr.reader.Label object at 0x7f516dc234f0>: None\n"
     ]
    },
    {
     "name": "stdout",
     "output_type": "stream",
     "text": [
      "\u001b[34mINFO    \u001b[0m no axes information specified in the object, setting `dims` to: \u001b[1m(\u001b[0m\u001b[32m'y'\u001b[0m, \u001b[32m'x'\u001b[0m\u001b[1m)\u001b[0m                                \n",
      "\u001b[34mINFO    \u001b[0m no axes information specified in the object, setting `dims` to: \u001b[1m(\u001b[0m\u001b[32m'y'\u001b[0m, \u001b[32m'x'\u001b[0m\u001b[1m)\u001b[0m                                \n"
     ]
    },
    {
     "name": "stderr",
     "output_type": "stream",
     "text": [
      "no parent found for <ome_zarr.reader.Label object at 0x7f516da42790>: None\n"
     ]
    }
   ],
   "source": [
    "# Get data\n",
    "for file_name in file_names:\n",
    "    image = sdata.images[file_name + '_preprocessed'].data\n",
    "\n",
    "    # Get channels of interest\n",
    "    glul_channel = image[glul_ch]\n",
    "    ecadh_channel = image[ecadh_ch]\n",
    "\n",
    "    # Make zonation mask container\n",
    "    zonation_mask = da.zeros_like(ecadh_channel, dtype=np.uint8)\n",
    "\n",
    "    # Get central zone and add to container with right index\n",
    "    central_zone = segment_central_zones(glul_channel=glul_channel, structuring_element=morph_structuring_kernel) # reads full image!! TODO\n",
    "    zonation_mask += (central_zone * central_zone_label).astype(np.uint8)\n",
    "\n",
    "    #get periportal zone and add to container with right index\n",
    "    periportal_zone = segment_periportal_zones(ecadh_channel=ecadh_channel, structuring_element=morph_structuring_kernel) # reads full image!! TODO\n",
    "    zonation_mask += (periportal_zone * periportal_zone_label).astype(np.uint8)\n",
    "\n",
    "    # remove duplicate regions (central + portal = 3)\n",
    "    zonation_mask[zonation_mask > 2] = 0\n",
    "    try:\n",
    "        sdata.add_labels(name= file_name + '_zonation', labels=Labels2DModel.parse(zonation_mask), overwrite=True)\n",
    "    except:\n",
    "        rechuncked_zonation_mask = da.asarray(zonation_mask).rechunk() # I don't understand why this is necessary, but it circuvents an error sometimes\n",
    "        sdata.add_labels(name= file_name + '_zonation', labels=Labels2DModel.parse(rechuncked_zonation_mask), overwrite=True)\n"
   ]
  }
 ],
 "metadata": {
  "kernelspec": {
   "display_name": "SpatialData",
   "language": "python",
   "name": "python3"
  },
  "language_info": {
   "codemirror_mode": {
    "name": "ipython",
    "version": 3
   },
   "file_extension": ".py",
   "mimetype": "text/x-python",
   "name": "python",
   "nbconvert_exporter": "python",
   "pygments_lexer": "ipython3",
   "version": "3.9.18"
  }
 },
 "nbformat": 4,
 "nbformat_minor": 2
}
