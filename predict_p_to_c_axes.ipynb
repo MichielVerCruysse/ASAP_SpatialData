{
 "cells": [
  {
   "cell_type": "markdown",
   "metadata": {},
   "source": [
    "## Predict portal-to-central vein axes\n",
    "**Input**: Portal & Central veins ; Periportal & Central Regions\\\n",
    "**Mechanism**: Contraint method: Candidate axes must follow a set of rules\\\n",
    "**Output**: Arrays with start- and endpoints of predicted portal-to-central vein axes"
   ]
  },
  {
   "cell_type": "code",
   "execution_count": 1,
   "metadata": {},
   "outputs": [],
   "source": [
    "# Libraries\n",
    "import os, yaml\n",
    "import dask.array as da\n",
    "import spatialdata as sd\n",
    "from skimage.segmentation import find_boundaries\n",
    "import numpy as np\n",
    "from skimage.measure import label, regionprops\n",
    "from functions.axis_prediction_utils import *"
   ]
  },
  {
   "cell_type": "markdown",
   "metadata": {},
   "source": [
    "### Parameters"
   ]
  },
  {
   "cell_type": "code",
   "execution_count": 3,
   "metadata": {},
   "outputs": [],
   "source": [
    "#Paths\n",
    "sample_type = 'Flox_Control'\n",
    "data_dir = '/srv/data/michielvc/data/CSF1_ligand_data/SpatialData/'\n",
    "\n",
    "# Open config file and extract relevant information\n",
    "config = yaml.safe_load(open(data_dir + f'{sample_type}_config.yaml'))\n",
    "file_names = config['file_names']\n",
    "\n",
    "# Parameters\n",
    "glul_ch = config['marker_channel']['Glul']\n",
    "ecadh_ch = config['marker_channel']['Ecadh']\n",
    "\n",
    "central_zone_label = config['zonation_labels']['central_zone']\n",
    "periportal_zone_label = config['zonation_labels']['periportal_zone']\n",
    "\n",
    "central_vein_label = config['segment_labels']['central_vein']\n",
    "portal_vein_label = config['segment_labels']['portal_vein']\n",
    "\n",
    "max_axis_length = config['axis_properties']['max_length']\n",
    "min_axis_length = config['axis_properties']['min_length']\n"
   ]
  },
  {
   "cell_type": "markdown",
   "metadata": {},
   "source": [
    "### Load SpatialData object"
   ]
  },
  {
   "cell_type": "code",
   "execution_count": 4,
   "metadata": {},
   "outputs": [
    {
     "data": {
      "text/plain": [
       "SpatialData object with:\n",
       "├── Images\n",
       "│     ├── 'E2M1FloxControl_preprocessed': SpatialImage[cyx] (5, 7533, 16659)\n",
       "│     ├── 'E2M1FloxControl_raw': SpatialImage[cyx] (5, 7533, 16659)\n",
       "│     ├── 'E2M3FloxControl_preprocessed': SpatialImage[cyx] (5, 11178, 18468)\n",
       "│     ├── 'E2M3FloxControl_raw': SpatialImage[cyx] (5, 11178, 18468)\n",
       "│     ├── 'E2M5FloxControl_preprocessed': SpatialImage[cyx] (5, 9342, 12987)\n",
       "│     ├── 'E2M5FloxControl_raw': SpatialImage[cyx] (5, 9342, 12987)\n",
       "│     ├── 'E2M6FloxControl_preprocessed': SpatialImage[cyx] (5, 11205, 14823)\n",
       "│     ├── 'E2M6FloxControl_raw': SpatialImage[cyx] (5, 11205, 14823)\n",
       "│     ├── 'E2M7FloxControl_preprocessed': SpatialImage[cyx] (5, 9342, 16632)\n",
       "│     ├── 'E2M7FloxControl_raw': SpatialImage[cyx] (5, 9342, 16632)\n",
       "│     ├── 'E2M8FloxControl_preprocessed': SpatialImage[cyx] (5, 7533, 14823)\n",
       "│     ├── 'E2M8FloxControl_raw': SpatialImage[cyx] (5, 7533, 14823)\n",
       "│     ├── 'E2M15FloxControl_preprocessed': SpatialImage[cyx] (5, 9342, 14823)\n",
       "│     ├── 'E2M15FloxControl_raw': SpatialImage[cyx] (5, 9342, 14823)\n",
       "│     ├── 'E2M16FloxControl_preprocessed': SpatialImage[cyx] (5, 16632, 14823)\n",
       "│     ├── 'E2M16FloxControl_raw': SpatialImage[cyx] (5, 16632, 14823)\n",
       "│     ├── 'E4M7FloxControl_preprocessed': SpatialImage[cyx] (5, 9342, 16632)\n",
       "│     ├── 'E4M7FloxControl_raw': SpatialImage[cyx] (5, 9342, 16632)\n",
       "│     ├── 'E4M14FloxControl_preprocessed': SpatialImage[cyx] (5, 7533, 14823)\n",
       "│     ├── 'E4M14FloxControl_raw': SpatialImage[cyx] (5, 7533, 14823)\n",
       "│     ├── 'E4M16FloxControl_preprocessed': SpatialImage[cyx] (5, 9342, 16659)\n",
       "│     ├── 'E4M16FloxControl_raw': SpatialImage[cyx] (5, 9342, 16659)\n",
       "│     ├── 'E4M18FloxControl_preprocessed': SpatialImage[cyx] (5, 16632, 9342)\n",
       "│     ├── 'E4M18FloxControl_raw': SpatialImage[cyx] (5, 16632, 9342)\n",
       "│     ├── 'E5M1FloxControl_preprocessed': SpatialImage[cyx] (5, 18468, 9342)\n",
       "│     ├── 'E5M1FloxControl_raw': SpatialImage[cyx] (5, 18468, 9342)\n",
       "│     ├── 'E5M2FloxControl_preprocessed': SpatialImage[cyx] (5, 18252, 9207)\n",
       "│     ├── 'E5M2FloxControl_raw': SpatialImage[cyx] (5, 18252, 9207)\n",
       "│     ├── 'E5M4FloxControl_preprocessed': SpatialImage[cyx] (5, 9396, 18468)\n",
       "│     ├── 'E5M4FloxControl_raw': SpatialImage[cyx] (5, 9396, 18468)\n",
       "│     ├── 'E5M6FloxControl_preprocessed': SpatialImage[cyx] (5, 9342, 14823)\n",
       "│     ├── 'E5M6FloxControl_raw': SpatialImage[cyx] (5, 9342, 14823)\n",
       "│     ├── 'E5M13FloxControl_preprocessed': SpatialImage[cyx] (5, 9342, 14877)\n",
       "│     ├── 'E5M13FloxControl_raw': SpatialImage[cyx] (5, 9342, 14877)\n",
       "│     ├── 'E5M19FloxControl_preprocessed': SpatialImage[cyx] (5, 7533, 18468)\n",
       "│     ├── 'E5M19FloxControl_raw': SpatialImage[cyx] (5, 7533, 18468)\n",
       "│     ├── 'E5M20FloxControl_preprocessed': SpatialImage[cyx] (5, 9369, 14823)\n",
       "│     ├── 'E5M20FloxControl_raw': SpatialImage[cyx] (5, 9369, 14823)\n",
       "│     ├── 'E5M22FloxControl_preprocessed': SpatialImage[cyx] (5, 11178, 14823)\n",
       "│     ├── 'E5M22FloxControl_raw': SpatialImage[cyx] (5, 11178, 14823)\n",
       "│     ├── 'E5M23FloxControl_preprocessed': SpatialImage[cyx] (5, 7533, 14823)\n",
       "│     ├── 'E5M23FloxControl_raw': SpatialImage[cyx] (5, 7533, 14823)\n",
       "│     └── 'test': SpatialImage[cyx] (5, 7533, 16659)\n",
       "└── Labels\n",
       "      ├── 'E2M1FloxControl_artefacts': SpatialImage[zyx] (5, 7533, 16659)\n",
       "      ├── 'E2M1FloxControl_cut_mask': SpatialImage[yx] (7533, 16659)\n",
       "      ├── 'E2M1FloxControl_vein_segments': SpatialImage[yx] (7533, 16659)\n",
       "      ├── 'E2M1FloxControl_zonation': SpatialImage[yx] (7533, 16659)\n",
       "      ├── 'E2M3FloxControl_artefacts': SpatialImage[zyx] (5, 11178, 18468)\n",
       "      ├── 'E2M3FloxControl_cut_mask': SpatialImage[yx] (11178, 18468)\n",
       "      ├── 'E2M3FloxControl_vein_segments': SpatialImage[yx] (11178, 18468)\n",
       "      ├── 'E2M3FloxControl_zonation': SpatialImage[yx] (11178, 18468)\n",
       "      ├── 'E2M5FloxControl_artefacts': SpatialImage[zyx] (5, 9342, 12987)\n",
       "      ├── 'E2M5FloxControl_cut_mask': SpatialImage[yx] (9342, 12987)\n",
       "      ├── 'E2M5FloxControl_vein_segments': SpatialImage[yx] (9342, 12987)\n",
       "      ├── 'E2M5FloxControl_zonation': SpatialImage[yx] (9342, 12987)\n",
       "      ├── 'E2M6FloxControl_artefacts': SpatialImage[zyx] (5, 11205, 14823)\n",
       "      ├── 'E2M6FloxControl_cut_mask': SpatialImage[yx] (11205, 14823)\n",
       "      ├── 'E2M6FloxControl_vein_segments': SpatialImage[yx] (11205, 14823)\n",
       "      ├── 'E2M6FloxControl_zonation': SpatialImage[yx] (11205, 14823)\n",
       "      ├── 'E2M7FloxControl_artefacts': SpatialImage[zyx] (5, 9342, 16632)\n",
       "      ├── 'E2M7FloxControl_cut_mask': SpatialImage[yx] (9342, 16632)\n",
       "      ├── 'E2M7FloxControl_vein_segments': SpatialImage[yx] (9342, 16632)\n",
       "      ├── 'E2M7FloxControl_zonation': SpatialImage[yx] (9342, 16632)\n",
       "      ├── 'E2M8FloxControl_artefacts': SpatialImage[zyx] (5, 7533, 14823)\n",
       "      ├── 'E2M8FloxControl_cut_mask': SpatialImage[yx] (7533, 14823)\n",
       "      ├── 'E2M8FloxControl_vein_segments': SpatialImage[yx] (7533, 14823)\n",
       "      ├── 'E2M8FloxControl_zonation': SpatialImage[yx] (7533, 14823)\n",
       "      ├── 'E2M15FloxControl_artefacts': SpatialImage[zyx] (5, 9342, 14823)\n",
       "      ├── 'E2M15FloxControl_cut_mask': SpatialImage[yx] (9342, 14823)\n",
       "      ├── 'E2M15FloxControl_vein_segments': SpatialImage[yx] (9342, 14823)\n",
       "      ├── 'E2M15FloxControl_zonation': SpatialImage[yx] (9342, 14823)\n",
       "      ├── 'E2M16FloxControl_artefacts': SpatialImage[zyx] (5, 16632, 14823)\n",
       "      ├── 'E2M16FloxControl_cut_mask': SpatialImage[yx] (16632, 14823)\n",
       "      ├── 'E2M16FloxControl_vein_segments': SpatialImage[yx] (16632, 14823)\n",
       "      ├── 'E2M16FloxControl_zonation': SpatialImage[yx] (16632, 14823)\n",
       "      ├── 'E4M7FloxControl_artefacts': SpatialImage[zyx] (5, 9342, 16632)\n",
       "      ├── 'E4M7FloxControl_cut_mask': SpatialImage[yx] (9342, 16632)\n",
       "      ├── 'E4M7FloxControl_vein_segments': SpatialImage[yx] (9342, 16632)\n",
       "      ├── 'E4M7FloxControl_zonation': SpatialImage[yx] (9342, 16632)\n",
       "      ├── 'E4M14FloxControl_artefacts': SpatialImage[zyx] (5, 7533, 14823)\n",
       "      ├── 'E4M14FloxControl_cut_mask': SpatialImage[yx] (7533, 14823)\n",
       "      ├── 'E4M14FloxControl_vein_segments': SpatialImage[yx] (7533, 14823)\n",
       "      ├── 'E4M14FloxControl_zonation': SpatialImage[yx] (7533, 14823)\n",
       "      ├── 'E4M16FloxControl_artefacts': SpatialImage[zyx] (5, 9342, 16659)\n",
       "      ├── 'E4M16FloxControl_cut_mask': SpatialImage[yx] (9342, 16659)\n",
       "      ├── 'E4M16FloxControl_vein_segments': SpatialImage[yx] (9342, 16659)\n",
       "      ├── 'E4M16FloxControl_zonation': SpatialImage[yx] (9342, 16659)\n",
       "      ├── 'E4M18FloxControl_artefacts': SpatialImage[zyx] (5, 16632, 9342)\n",
       "      ├── 'E4M18FloxControl_cut_mask': SpatialImage[yx] (16632, 9342)\n",
       "      ├── 'E4M18FloxControl_vein_segments': SpatialImage[yx] (16632, 9342)\n",
       "      ├── 'E4M18FloxControl_zonation': SpatialImage[yx] (16632, 9342)\n",
       "      ├── 'E5M1FloxControl_artefacts': SpatialImage[zyx] (5, 18468, 9342)\n",
       "      ├── 'E5M1FloxControl_cut_mask': SpatialImage[yx] (18468, 9342)\n",
       "      ├── 'E5M1FloxControl_vein_segments': SpatialImage[yx] (18468, 9342)\n",
       "      ├── 'E5M1FloxControl_zonation': SpatialImage[yx] (18468, 9342)\n",
       "      ├── 'E5M2FloxControl_artefacts': SpatialImage[zyx] (5, 18252, 9207)\n",
       "      ├── 'E5M2FloxControl_cut_mask': SpatialImage[yx] (18252, 9207)\n",
       "      ├── 'E5M2FloxControl_vein_segments': SpatialImage[yx] (18252, 9207)\n",
       "      ├── 'E5M2FloxControl_zonation': SpatialImage[yx] (18252, 9207)\n",
       "      ├── 'E5M4FloxControl_artefacts': SpatialImage[zyx] (5, 9396, 18468)\n",
       "      ├── 'E5M4FloxControl_cut_mask': SpatialImage[yx] (9396, 18468)\n",
       "      ├── 'E5M4FloxControl_vein_segments': SpatialImage[yx] (9396, 18468)\n",
       "      ├── 'E5M4FloxControl_zonation': SpatialImage[yx] (9396, 18468)\n",
       "      ├── 'E5M6FloxControl_artefacts': SpatialImage[zyx] (5, 9342, 14823)\n",
       "      ├── 'E5M6FloxControl_cut_mask': SpatialImage[yx] (9342, 14823)\n",
       "      ├── 'E5M6FloxControl_vein_segments': SpatialImage[yx] (9342, 14823)\n",
       "      ├── 'E5M6FloxControl_zonation': SpatialImage[yx] (9342, 14823)\n",
       "      ├── 'E5M13FloxControl_artefacts': SpatialImage[zyx] (5, 9342, 14877)\n",
       "      ├── 'E5M13FloxControl_cut_mask': SpatialImage[yx] (9342, 14877)\n",
       "      ├── 'E5M13FloxControl_vein_segments': SpatialImage[yx] (9342, 14877)\n",
       "      ├── 'E5M13FloxControl_zonation': SpatialImage[yx] (9342, 14877)\n",
       "      ├── 'E5M19FloxControl_artefacts': SpatialImage[zyx] (5, 7533, 18468)\n",
       "      ├── 'E5M19FloxControl_cut_mask': SpatialImage[yx] (7533, 18468)\n",
       "      ├── 'E5M19FloxControl_vein_segments': SpatialImage[yx] (7533, 18468)\n",
       "      ├── 'E5M19FloxControl_zonation': SpatialImage[yx] (7533, 18468)\n",
       "      ├── 'E5M20FloxControl_artefacts': SpatialImage[zyx] (5, 9369, 14823)\n",
       "      ├── 'E5M20FloxControl_cut_mask': SpatialImage[yx] (9369, 14823)\n",
       "      ├── 'E5M20FloxControl_vein_segments': SpatialImage[yx] (9369, 14823)\n",
       "      ├── 'E5M20FloxControl_zonation': SpatialImage[yx] (9369, 14823)\n",
       "      ├── 'E5M22FloxControl_artefacts': SpatialImage[zyx] (5, 11178, 14823)\n",
       "      ├── 'E5M22FloxControl_cut_mask': SpatialImage[yx] (11178, 14823)\n",
       "      ├── 'E5M22FloxControl_vein_segments': SpatialImage[yx] (11178, 14823)\n",
       "      ├── 'E5M22FloxControl_zonation': SpatialImage[yx] (11178, 14823)\n",
       "      ├── 'E5M23FloxControl_artefacts': SpatialImage[zyx] (5, 7533, 14823)\n",
       "      ├── 'E5M23FloxControl_cut_mask': SpatialImage[yx] (7533, 14823)\n",
       "      ├── 'E5M23FloxControl_vein_segments': SpatialImage[yx] (7533, 14823)\n",
       "      └── 'E5M23FloxControl_zonation': SpatialImage[yx] (7533, 14823)\n",
       "with coordinate systems:\n",
       "▸ 'global', with elements:\n",
       "        E2M1FloxControl_preprocessed (Images), E2M1FloxControl_raw (Images), E2M3FloxControl_preprocessed (Images), E2M3FloxControl_raw (Images), E2M5FloxControl_preprocessed (Images), E2M5FloxControl_raw (Images), E2M6FloxControl_preprocessed (Images), E2M6FloxControl_raw (Images), E2M7FloxControl_preprocessed (Images), E2M7FloxControl_raw (Images), E2M8FloxControl_preprocessed (Images), E2M8FloxControl_raw (Images), E2M15FloxControl_preprocessed (Images), E2M15FloxControl_raw (Images), E2M16FloxControl_preprocessed (Images), E2M16FloxControl_raw (Images), E4M7FloxControl_preprocessed (Images), E4M7FloxControl_raw (Images), E4M14FloxControl_preprocessed (Images), E4M14FloxControl_raw (Images), E4M16FloxControl_preprocessed (Images), E4M16FloxControl_raw (Images), E4M18FloxControl_preprocessed (Images), E4M18FloxControl_raw (Images), E5M1FloxControl_preprocessed (Images), E5M1FloxControl_raw (Images), E5M2FloxControl_preprocessed (Images), E5M2FloxControl_raw (Images), E5M4FloxControl_preprocessed (Images), E5M4FloxControl_raw (Images), E5M6FloxControl_preprocessed (Images), E5M6FloxControl_raw (Images), E5M13FloxControl_preprocessed (Images), E5M13FloxControl_raw (Images), E5M19FloxControl_preprocessed (Images), E5M19FloxControl_raw (Images), E5M20FloxControl_preprocessed (Images), E5M20FloxControl_raw (Images), E5M22FloxControl_preprocessed (Images), E5M22FloxControl_raw (Images), E5M23FloxControl_preprocessed (Images), E5M23FloxControl_raw (Images), test (Images), E2M1FloxControl_artefacts (Labels), E2M1FloxControl_cut_mask (Labels), E2M1FloxControl_vein_segments (Labels), E2M1FloxControl_zonation (Labels), E2M3FloxControl_artefacts (Labels), E2M3FloxControl_cut_mask (Labels), E2M3FloxControl_vein_segments (Labels), E2M3FloxControl_zonation (Labels), E2M5FloxControl_artefacts (Labels), E2M5FloxControl_cut_mask (Labels), E2M5FloxControl_vein_segments (Labels), E2M5FloxControl_zonation (Labels), E2M6FloxControl_artefacts (Labels), E2M6FloxControl_cut_mask (Labels), E2M6FloxControl_vein_segments (Labels), E2M6FloxControl_zonation (Labels), E2M7FloxControl_artefacts (Labels), E2M7FloxControl_cut_mask (Labels), E2M7FloxControl_vein_segments (Labels), E2M7FloxControl_zonation (Labels), E2M8FloxControl_artefacts (Labels), E2M8FloxControl_cut_mask (Labels), E2M8FloxControl_vein_segments (Labels), E2M8FloxControl_zonation (Labels), E2M15FloxControl_artefacts (Labels), E2M15FloxControl_cut_mask (Labels), E2M15FloxControl_vein_segments (Labels), E2M15FloxControl_zonation (Labels), E2M16FloxControl_artefacts (Labels), E2M16FloxControl_cut_mask (Labels), E2M16FloxControl_vein_segments (Labels), E2M16FloxControl_zonation (Labels), E4M7FloxControl_artefacts (Labels), E4M7FloxControl_cut_mask (Labels), E4M7FloxControl_vein_segments (Labels), E4M7FloxControl_zonation (Labels), E4M14FloxControl_artefacts (Labels), E4M14FloxControl_cut_mask (Labels), E4M14FloxControl_vein_segments (Labels), E4M14FloxControl_zonation (Labels), E4M16FloxControl_artefacts (Labels), E4M16FloxControl_cut_mask (Labels), E4M16FloxControl_vein_segments (Labels), E4M16FloxControl_zonation (Labels), E4M18FloxControl_artefacts (Labels), E4M18FloxControl_cut_mask (Labels), E4M18FloxControl_vein_segments (Labels), E4M18FloxControl_zonation (Labels), E5M1FloxControl_artefacts (Labels), E5M1FloxControl_cut_mask (Labels), E5M1FloxControl_vein_segments (Labels), E5M1FloxControl_zonation (Labels), E5M2FloxControl_artefacts (Labels), E5M2FloxControl_cut_mask (Labels), E5M2FloxControl_vein_segments (Labels), E5M2FloxControl_zonation (Labels), E5M4FloxControl_artefacts (Labels), E5M4FloxControl_cut_mask (Labels), E5M4FloxControl_vein_segments (Labels), E5M4FloxControl_zonation (Labels), E5M6FloxControl_artefacts (Labels), E5M6FloxControl_cut_mask (Labels), E5M6FloxControl_vein_segments (Labels), E5M6FloxControl_zonation (Labels), E5M13FloxControl_artefacts (Labels), E5M13FloxControl_cut_mask (Labels), E5M13FloxControl_vein_segments (Labels), E5M13FloxControl_zonation (Labels), E5M19FloxControl_artefacts (Labels), E5M19FloxControl_cut_mask (Labels), E5M19FloxControl_vein_segments (Labels), E5M19FloxControl_zonation (Labels), E5M20FloxControl_artefacts (Labels), E5M20FloxControl_cut_mask (Labels), E5M20FloxControl_vein_segments (Labels), E5M20FloxControl_zonation (Labels), E5M22FloxControl_artefacts (Labels), E5M22FloxControl_cut_mask (Labels), E5M22FloxControl_vein_segments (Labels), E5M22FloxControl_zonation (Labels), E5M23FloxControl_artefacts (Labels), E5M23FloxControl_cut_mask (Labels), E5M23FloxControl_vein_segments (Labels), E5M23FloxControl_zonation (Labels)"
      ]
     },
     "execution_count": 4,
     "metadata": {},
     "output_type": "execute_result"
    }
   ],
   "source": [
    "sdata = sd.read_zarr(os.path.join(data_dir, f'{sample_type}.sd'))\n",
    "sdata"
   ]
  },
  {
   "cell_type": "markdown",
   "metadata": {},
   "source": [
    "### Calculate P-C axes  \n",
    "\n",
    "dict_of_neighbours = {c_label:[\n",
    " np.array([p_label1, (p1, p2)1, dist1])\n",
    " np.array([p_label2, (p1, p2)2, dist2])\n",
    " ...\n",
    " ]}"
   ]
  },
  {
   "cell_type": "code",
   "execution_count": 5,
   "metadata": {},
   "outputs": [],
   "source": [
    "# Read veins and regions\n",
    "file_name = file_names[0]\n",
    "vein_segments = sdata.labels[file_name + '_vein_segments']\n",
    "zonation_segments = sdata.labels[file_name + '_zonation']"
   ]
  },
  {
   "cell_type": "code",
   "execution_count": 6,
   "metadata": {},
   "outputs": [],
   "source": [
    "# Process data\n",
    "\n",
    "# Get zones where vein segments overlap with region segments and remove overlapping zones from veins\n",
    "overlapping_zones = da.logical_and(vein_segments, zonation_segments)\n",
    "shunk_vein_segments = np.asarray(vein_segments, dtype=np.uint8)  # Out of dask! TODO\n",
    "shunk_vein_segments[overlapping_zones] = 0\n",
    "\n",
    "# get labeled portal and central vein segments boundaries\n",
    "portal_vein_segments = shunk_vein_segments == portal_vein_label\n",
    "central_vein_segments = shunk_vein_segments == central_vein_label\n",
    "\n",
    "# get labeled central and periportal zones boundaries\n",
    "c_labels = label(find_boundaries(central_vein_segments))\n",
    "p_labels = label(find_boundaries(portal_vein_segments))\n",
    "nb_c_veins = np.max(c_labels)\n",
    "\n",
    "image_dimensions = c_labels.shape"
   ]
  },
  {
   "cell_type": "code",
   "execution_count": 7,
   "metadata": {},
   "outputs": [],
   "source": [
    "# for c_props in regionprops(c_labels):\n",
    "#     c_label = c_props.label\n",
    "c_props = regionprops(c_labels)[0]\n",
    "c_label = c_props.label\n",
    "c_border_coordinates = c_props.coords\n",
    "\n",
    "# isolate zone around current central vein in which potential partner portal veins can be found (limited by max_axis_length)\n",
    "zone_y1, zone_y2, zone_x1, zone_x2 = frame_around_object(c_props, size_increase=max_axis_length, im_dimensions=image_dimensions)\n",
    "portal_veins_in_zone = p_labels[zone_y1:zone_y2, zone_x1:zone_x2]\n",
    "pv_in_zone_props = regionprops(portal_veins_in_zone)\n",
    "\n",
    "# assess for each portal vein in zone if it is a partner vein\n",
    "# for p_props in pv_in_zone_props:\n",
    "p_props = pv_in_zone_props[0]\n",
    "p_border_coordinates = p_props.coords\n",
    "\n",
    "# calculate shortest axis between current central vein and current portal vein\n",
    "axis, length = get_shortest_axis(c_border_coordinates, p_border_coordinates)\n",
    "# if distance < min_axis_length:\n",
    "#     continue\n",
    "\n"
   ]
  },
  {
   "cell_type": "code",
   "execution_count": 9,
   "metadata": {},
   "outputs": [
    {
     "data": {
      "text/plain": [
       "((array([1320, 5977]), array([1395, 1230])), 4747.592442491246)"
      ]
     },
     "execution_count": 9,
     "metadata": {},
     "output_type": "execute_result"
    }
   ],
   "source": [
    "axis,length"
   ]
  },
  {
   "cell_type": "code",
   "execution_count": null,
   "metadata": {},
   "outputs": [],
   "source": []
  },
  {
   "cell_type": "code",
   "execution_count": null,
   "metadata": {},
   "outputs": [],
   "source": []
  },
  {
   "cell_type": "code",
   "execution_count": null,
   "metadata": {},
   "outputs": [],
   "source": []
  }
 ],
 "metadata": {
  "kernelspec": {
   "display_name": "SpatialData",
   "language": "python",
   "name": "python3"
  },
  "language_info": {
   "codemirror_mode": {
    "name": "ipython",
    "version": 3
   },
   "file_extension": ".py",
   "mimetype": "text/x-python",
   "name": "python",
   "nbconvert_exporter": "python",
   "pygments_lexer": "ipython3",
   "version": "3.9.18"
  }
 },
 "nbformat": 4,
 "nbformat_minor": 2
}
